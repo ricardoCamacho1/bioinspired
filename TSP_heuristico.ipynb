{
  "cells": [
    {
      "cell_type": "code",
      "execution_count": 1,
      "metadata": {
        "colab": {
          "base_uri": "https://localhost:8080/"
        },
        "id": "LfoDKBJMm55d",
        "outputId": "e171f155-1ccf-4d48-a378-f7ef5d894eef"
      },
      "outputs": [
        {
          "name": "stdout",
          "output_type": "stream",
          "text": [
            "Collecting python-tsp\n",
            "  Downloading python_tsp-0.3.1-py3-none-any.whl (18 kB)\n",
            "Requirement already satisfied: numpy in c:\\users\\berny\\appdata\\local\\programs\\python\\python310\\lib\\site-packages (from python-tsp) (1.22.3)\n",
            "Requirement already satisfied: requests<3.0.0,>=2.28.0 in c:\\users\\berny\\appdata\\local\\programs\\python\\python310\\lib\\site-packages (from python-tsp) (2.28.1)\n",
            "Collecting tsplib95<0.8.0,>=0.7.1\n",
            "  Downloading tsplib95-0.7.1-py2.py3-none-any.whl (25 kB)\n",
            "Requirement already satisfied: certifi>=2017.4.17 in c:\\users\\berny\\appdata\\local\\programs\\python\\python310\\lib\\site-packages (from requests<3.0.0,>=2.28.0->python-tsp) (2022.6.15)\n",
            "Requirement already satisfied: idna<4,>=2.5 in c:\\users\\berny\\appdata\\local\\programs\\python\\python310\\lib\\site-packages (from requests<3.0.0,>=2.28.0->python-tsp) (3.3)\n",
            "Requirement already satisfied: charset-normalizer<3,>=2 in c:\\users\\berny\\appdata\\local\\programs\\python\\python310\\lib\\site-packages (from requests<3.0.0,>=2.28.0->python-tsp) (2.1.0)\n",
            "Requirement already satisfied: urllib3<1.27,>=1.21.1 in c:\\users\\berny\\appdata\\local\\programs\\python\\python310\\lib\\site-packages (from requests<3.0.0,>=2.28.0->python-tsp) (1.26.11)\n",
            "Requirement already satisfied: Click>=6.0 in c:\\users\\berny\\appdata\\local\\programs\\python\\python310\\lib\\site-packages (from tsplib95<0.8.0,>=0.7.1->python-tsp) (8.1.3)\n",
            "Collecting tabulate~=0.8.7\n",
            "  Downloading tabulate-0.8.10-py3-none-any.whl (29 kB)\n",
            "Collecting Deprecated~=1.2.9\n",
            "  Downloading Deprecated-1.2.13-py2.py3-none-any.whl (9.6 kB)\n",
            "Requirement already satisfied: networkx~=2.1 in c:\\users\\berny\\appdata\\local\\programs\\python\\python310\\lib\\site-packages (from tsplib95<0.8.0,>=0.7.1->python-tsp) (2.7.1)\n",
            "Requirement already satisfied: colorama in c:\\users\\berny\\appdata\\local\\programs\\python\\python310\\lib\\site-packages (from Click>=6.0->tsplib95<0.8.0,>=0.7.1->python-tsp) (0.4.5)\n",
            "Collecting wrapt<2,>=1.10\n",
            "  Downloading wrapt-1.14.1-cp310-cp310-win_amd64.whl (35 kB)\n",
            "Installing collected packages: wrapt, tabulate, Deprecated, tsplib95, python-tsp\n",
            "Successfully installed Deprecated-1.2.13 python-tsp-0.3.1 tabulate-0.8.10 tsplib95-0.7.1 wrapt-1.14.1\n"
          ]
        },
        {
          "name": "stderr",
          "output_type": "stream",
          "text": [
            "WARNING: You are using pip version 22.0.4; however, version 22.3.1 is available.\n",
            "You should consider upgrading via the 'C:\\Users\\berny\\AppData\\Local\\Programs\\Python\\Python310\\python.exe -m pip install --upgrade pip' command.\n"
          ]
        }
      ],
      "source": [
        "!pip install python-tsp\n",
        "#https://github.com/fillipe-gsm/python-tsp"
      ]
    },
    {
      "cell_type": "code",
      "execution_count": 12,
      "metadata": {
        "colab": {
          "base_uri": "https://localhost:8080/",
          "height": 586
        },
        "id": "UVrifu_BhKDm",
        "outputId": "11a73d9e-2105-4646-e245-61c0ee02c09f"
      },
      "outputs": [
        {
          "name": "stdout",
          "output_type": "stream",
          "text": [
            "Distancia recorrida:  76.94999999999999 \n",
            "\n"
          ]
        },
        {
          "data": {
            "text/html": [
              "<div>\n",
              "<style scoped>\n",
              "    .dataframe tbody tr th:only-of-type {\n",
              "        vertical-align: middle;\n",
              "    }\n",
              "\n",
              "    .dataframe tbody tr th {\n",
              "        vertical-align: top;\n",
              "    }\n",
              "\n",
              "    .dataframe thead th {\n",
              "        text-align: right;\n",
              "    }\n",
              "</style>\n",
              "<table border=\"1\" class=\"dataframe\">\n",
              "  <thead>\n",
              "    <tr style=\"text-align: right;\">\n",
              "      <th></th>\n",
              "      <th>Orden de solucion</th>\n",
              "    </tr>\n",
              "  </thead>\n",
              "  <tbody>\n",
              "    <tr>\n",
              "      <th>0</th>\n",
              "      <td>HEB San Pedro</td>\n",
              "    </tr>\n",
              "    <tr>\n",
              "      <th>1</th>\n",
              "      <td>Punto Valle</td>\n",
              "    </tr>\n",
              "    <tr>\n",
              "      <th>2</th>\n",
              "      <td>Taquería Orinoco</td>\n",
              "    </tr>\n",
              "    <tr>\n",
              "      <th>3</th>\n",
              "      <td>H. San José</td>\n",
              "    </tr>\n",
              "    <tr>\n",
              "      <th>4</th>\n",
              "      <td>Parque Fundidora</td>\n",
              "    </tr>\n",
              "    <tr>\n",
              "      <th>5</th>\n",
              "      <td>Estadio BBVA</td>\n",
              "    </tr>\n",
              "    <tr>\n",
              "      <th>6</th>\n",
              "      <td>Tec de MTY</td>\n",
              "    </tr>\n",
              "    <tr>\n",
              "      <th>7</th>\n",
              "      <td>Paseo Tec</td>\n",
              "    </tr>\n",
              "    <tr>\n",
              "      <th>8</th>\n",
              "      <td>Super Salads Esfera</td>\n",
              "    </tr>\n",
              "    <tr>\n",
              "      <th>9</th>\n",
              "      <td>Fashion Drive</td>\n",
              "    </tr>\n",
              "    <tr>\n",
              "      <th>10</th>\n",
              "      <td>Hospital Zambrano Hellion</td>\n",
              "    </tr>\n",
              "    <tr>\n",
              "      <th>11</th>\n",
              "      <td>Colegio Irlandés</td>\n",
              "    </tr>\n",
              "    <tr>\n",
              "      <th>12</th>\n",
              "      <td>CECVAC</td>\n",
              "    </tr>\n",
              "    <tr>\n",
              "      <th>13</th>\n",
              "      <td>McKinsey</td>\n",
              "    </tr>\n",
              "    <tr>\n",
              "      <th>14</th>\n",
              "      <td>Prepa Tec Santa Catarina</td>\n",
              "    </tr>\n",
              "    <tr>\n",
              "      <th>15</th>\n",
              "      <td>Colegio Himalaya</td>\n",
              "    </tr>\n",
              "  </tbody>\n",
              "</table>\n",
              "</div>"
            ],
            "text/plain": [
              "            Orden de solucion\n",
              "0               HEB San Pedro\n",
              "1                 Punto Valle\n",
              "2            Taquería Orinoco\n",
              "3                 H. San José\n",
              "4            Parque Fundidora\n",
              "5                Estadio BBVA\n",
              "6                  Tec de MTY\n",
              "7                   Paseo Tec\n",
              "8         Super Salads Esfera\n",
              "9               Fashion Drive\n",
              "10  Hospital Zambrano Hellion\n",
              "11           Colegio Irlandés\n",
              "12                     CECVAC\n",
              "13                   McKinsey\n",
              "14   Prepa Tec Santa Catarina\n",
              "15           Colegio Himalaya"
            ]
          },
          "execution_count": 12,
          "metadata": {},
          "output_type": "execute_result"
        }
      ],
      "source": [
        "import numpy as np\n",
        "import pandas as pd\n",
        "from python_tsp.heuristics import solve_tsp_local_search\n",
        "\n",
        "\n",
        "df = pd.read_csv(\"Distancias.csv\")\n",
        "\n",
        "dicc = df[[\"Lugar\"]].copy()\n",
        "\n",
        "df = df.drop([\"Lugar\"],axis = 1)\n",
        "\n",
        "lista = df.to_numpy()\n",
        "\n",
        "lista[lista == 0] = 1000\n",
        "\n",
        "dicc = dicc.to_numpy()\n",
        "\n",
        "permutation, distance = solve_tsp_local_search(lista)\n",
        "print(\"Distancia recorrida: \",distance, \"\\n\")\n",
        "\n",
        "\n",
        "for i in range(len(permutation)):\n",
        "  permutation[i] = dicc[permutation[i]]\n",
        "\n",
        "dff = pd.DataFrame(permutation, columns = ['Orden de solucion'])\n",
        "\n",
        "dff"
      ]
    },
    {
      "cell_type": "code",
      "execution_count": 6,
      "metadata": {},
      "outputs": [
        {
          "data": {
            "text/plain": [
              "[array(['HEB San Pedro'], dtype=object),\n",
              " array(['H. San José'], dtype=object),\n",
              " array(['Parque Fundidora'], dtype=object),\n",
              " array(['Estadio BBVA'], dtype=object),\n",
              " array(['Super Salads Esfera'], dtype=object),\n",
              " array(['Tec de MTY'], dtype=object),\n",
              " array(['Paseo Tec'], dtype=object),\n",
              " array(['Fashion Drive'], dtype=object),\n",
              " array(['Hospital Zambrano Hellion'], dtype=object),\n",
              " array(['Colegio Irlandés'], dtype=object),\n",
              " array(['CECVAC'], dtype=object),\n",
              " array(['McKinsey'], dtype=object),\n",
              " array(['Punto Valle'], dtype=object),\n",
              " array(['Taquería Orinoco'], dtype=object),\n",
              " array(['Colegio Himalaya'], dtype=object),\n",
              " array(['Prepa Tec Santa Catarina'], dtype=object)]"
            ]
          },
          "execution_count": 6,
          "metadata": {},
          "output_type": "execute_result"
        }
      ],
      "source": [
        "permutation"
      ]
    }
  ],
  "metadata": {
    "colab": {
      "provenance": []
    },
    "kernelspec": {
      "display_name": "Python 3.10.2 64-bit",
      "language": "python",
      "name": "python3"
    },
    "language_info": {
      "codemirror_mode": {
        "name": "ipython",
        "version": 3
      },
      "file_extension": ".py",
      "mimetype": "text/x-python",
      "name": "python",
      "nbconvert_exporter": "python",
      "pygments_lexer": "ipython3",
      "version": "3.10.2"
    },
    "vscode": {
      "interpreter": {
        "hash": "4d4c1540eefa6acbfaddf08480a1acca3aa046c3d31bc96b157aca4100a42cb0"
      }
    }
  },
  "nbformat": 4,
  "nbformat_minor": 0
}
